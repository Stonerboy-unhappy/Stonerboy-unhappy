{
  "nbformat": 4,
  "nbformat_minor": 0,
  "metadata": {
    "colab": {
      "private_outputs": true,
      "provenance": [],
      "cell_execution_strategy": "setup"
    },
    "kernelspec": {
      "name": "python3",
      "display_name": "Python 3"
    },
    "language_info": {
      "name": "python"
    },
    "accelerator": "TPU"
  },
  "cells": [
    {
      "cell_type": "code",
      "execution_count": null,
      "metadata": {
        "id": "rY4rNioA4pMP"
      },
      "outputs": [],
      "source": [
        "import pandas as pd\n",
        "import numpy as np\n",
        "import matplotlib.pyplot as plt\n",
        "import seaborn as sns\n",
        "import plotly.express as px"
      ]
    },
    {
      "cell_type": "code",
      "source": [
        "from google.colab import files\n",
        "uploaded = files.upload()"
      ],
      "metadata": {
        "id": "5b-qOanH40FZ"
      },
      "execution_count": null,
      "outputs": []
    },
    {
      "cell_type": "code",
      "source": [
        "news_df = pd.read_csv('/content/drive/MyDrive/Kaggle Datasets/WELFake_Dataset.csv',index_col=0)"
      ],
      "metadata": {
        "id": "Sr_lpZ035K9V"
      },
      "execution_count": null,
      "outputs": []
    },
    {
      "cell_type": "code",
      "source": [
        "news_df.head()"
      ],
      "metadata": {
        "id": "9BrznWC36OEh"
      },
      "execution_count": null,
      "outputs": []
    },
    {
      "cell_type": "code",
      "source": [],
      "metadata": {
        "id": "6PBhgvvQe_Wp"
      },
      "execution_count": null,
      "outputs": []
    },
    {
      "cell_type": "code",
      "source": [
        "news_df['label'].value_counts()"
      ],
      "metadata": {
        "id": "lE-TXzhK6YQa"
      },
      "execution_count": null,
      "outputs": []
    },
    {
      "cell_type": "code",
      "source": [
        "sns.heatmap(news_df.isnull())"
      ],
      "metadata": {
        "id": "f4cJ0qdG9mHA"
      },
      "execution_count": null,
      "outputs": []
    },
    {
      "cell_type": "code",
      "source": [
        "news_df.columns.values"
      ],
      "metadata": {
        "id": "2lpbU5JJ-Jmv"
      },
      "execution_count": null,
      "outputs": []
    },
    {
      "cell_type": "code",
      "source": [
        "news_df = news_df.dropna()"
      ],
      "metadata": {
        "id": "rVWirken-Z-b"
      },
      "execution_count": null,
      "outputs": []
    },
    {
      "cell_type": "code",
      "source": [
        "label=['label']"
      ],
      "metadata": {
        "id": "j1Mic2lF-srl"
      },
      "execution_count": null,
      "outputs": []
    },
    {
      "cell_type": "code",
      "source": [
        "final_df = pd.get_dummies(news_df,columns=label,drop_first=True)"
      ],
      "metadata": {
        "id": "seI1bFn8-0SP"
      },
      "execution_count": null,
      "outputs": []
    },
    {
      "cell_type": "code",
      "source": [
        "final_df.head()"
      ],
      "metadata": {
        "id": "M4XeFM-d-9V6"
      },
      "execution_count": null,
      "outputs": []
    },
    {
      "cell_type": "code",
      "source": [
        "X=news_df.drop('label',axis=1)\n",
        "y=news_df['label']"
      ],
      "metadata": {
        "id": "rPQIY9vr_Bfv"
      },
      "execution_count": null,
      "outputs": []
    },
    {
      "cell_type": "code",
      "source": [
        "X.shape,y.shape"
      ],
      "metadata": {
        "id": "Vj9Owi5z_Njf"
      },
      "execution_count": null,
      "outputs": []
    },
    {
      "cell_type": "code",
      "source": [
        "y.value_counts()"
      ],
      "metadata": {
        "id": "Y4naUPi3_Qao"
      },
      "execution_count": null,
      "outputs": []
    },
    {
      "cell_type": "code",
      "source": [
        "from tensorflow.keras.layers import Embedding,LSTM,Dense,Dropout,Bidirectional\n",
        "from tensorflow.keras.preprocessing.sequence import pad_sequences\n",
        "from tensorflow.keras.models import Sequential\n",
        "from tensorflow.keras.preprocessing.text import one_hot"
      ],
      "metadata": {
        "id": "bhIE4qhb_Sf2"
      },
      "execution_count": null,
      "outputs": []
    },
    {
      "cell_type": "code",
      "source": [
        "voc_size=5000"
      ],
      "metadata": {
        "id": "RMjcaUTT__nO"
      },
      "execution_count": null,
      "outputs": []
    },
    {
      "cell_type": "code",
      "source": [
        "massages=X.copy()"
      ],
      "metadata": {
        "id": "s7fCKv5yAEtu"
      },
      "execution_count": null,
      "outputs": []
    },
    {
      "cell_type": "code",
      "source": [
        "massages = massages[:10000]"
      ],
      "metadata": {
        "id": "6jxxbOkUUxPy"
      },
      "execution_count": null,
      "outputs": []
    },
    {
      "cell_type": "code",
      "source": [
        "massages['title'][9]"
      ],
      "metadata": {
        "id": "xKs8JB9IAPoj"
      },
      "execution_count": null,
      "outputs": []
    },
    {
      "cell_type": "code",
      "source": [
        "massages = massages.reset_index()"
      ],
      "metadata": {
        "id": "-zw3AAi5AdbZ"
      },
      "execution_count": null,
      "outputs": []
    },
    {
      "cell_type": "code",
      "source": [
        "import nltk\n",
        "import re\n",
        "from nltk.corpus import stopwords"
      ],
      "metadata": {
        "id": "DkeZblUUAjkn"
      },
      "execution_count": null,
      "outputs": []
    },
    {
      "cell_type": "code",
      "source": [
        "nltk.download('stopwords')"
      ],
      "metadata": {
        "id": "2fhIJMDrAvru"
      },
      "execution_count": null,
      "outputs": []
    },
    {
      "cell_type": "code",
      "source": [
        "nltk.download('wordnet')"
      ],
      "metadata": {
        "id": "MiyxLgX6U_Gl"
      },
      "execution_count": null,
      "outputs": []
    },
    {
      "cell_type": "code",
      "source": [
        "from nltk.stem.porter import PorterStemmer\n",
        "from nltk.stem.wordnet import WordNetLemmatizer\n",
        "ps = PorterStemmer()\n",
        "lem = WordNetLemmatizer()\n",
        "corpus = []"
      ],
      "metadata": {
        "id": "VZtguORgA4bS"
      },
      "execution_count": null,
      "outputs": []
    },
    {
      "cell_type": "code",
      "source": [
        "for i in range(0,len(massages)):\n",
        "  print(i)\n",
        "  review = re.sub('[^a-zA-Z]',' ',massages['title'][i])\n",
        "  review = review.lower()\n",
        "  review = review.split()\n",
        "\n",
        "  review = [ps.stem(word) for word in review if not word in stopwords.words('english')]\n",
        "  review = ' '.join(review)\n",
        "  corpus.append(review)"
      ],
      "metadata": {
        "id": "M7qXlEHRBK0C"
      },
      "execution_count": null,
      "outputs": []
    },
    {
      "cell_type": "code",
      "source": [
        "for i in range(0,len(massages)):\n",
        "  print(i)\n",
        "  review = re.sub('[^a-zA-Z]',' ',massages['title'][i])\n",
        "  review = review.lower()\n",
        "  review = review.split()\n",
        "\n",
        "  review = [lem.lemmatize(word) for word in review if not word in stopwords.words('english')]\n",
        "  review = ' '.join(review)\n",
        "  corpus.append(review)"
      ],
      "metadata": {
        "id": "ERRC6BxnVFSn"
      },
      "execution_count": null,
      "outputs": []
    },
    {
      "cell_type": "code",
      "source": [
        "corpus[0]"
      ],
      "metadata": {
        "id": "_U9tk9eNC1Sj"
      },
      "execution_count": null,
      "outputs": []
    },
    {
      "cell_type": "code",
      "source": [
        "onehot_repr = [one_hot(words,voc_size) for words in corpus]\n",
        "onehot_repr"
      ],
      "metadata": {
        "id": "nMW7J7OvC-he"
      },
      "execution_count": null,
      "outputs": []
    },
    {
      "cell_type": "code",
      "source": [
        "sent_len=20\n",
        "embedded_docs = pad_sequences(onehot_repr,padding='pre',maxlen=sent_len)\n",
        "embedded_docs"
      ],
      "metadata": {
        "id": "VWk3hbEDDv9u"
      },
      "execution_count": null,
      "outputs": []
    },
    {
      "cell_type": "code",
      "source": [
        "vec_feature=50\n",
        "model = Sequential()\n",
        "model.add(Embedding(voc_size,vec_feature,input_length=sent_len))\n",
        "model.add(LSTM(100))\n",
        "\n",
        "model.add(Dense(1,kernel_initializer='glorot_uniform',activation='sigmoid'))\n",
        "\n",
        "model.compile('adam','binary_crossentropy',['accuracy'])"
      ],
      "metadata": {
        "id": "Sk08yEErELLM"
      },
      "execution_count": null,
      "outputs": []
    },
    {
      "cell_type": "code",
      "source": [
        "vec_feature=50\n",
        "model1 = Sequential()\n",
        "model1.add(Embedding(voc_size,vec_feature,input_length=sent_len))\n",
        "model1.add(Bidirectional(LSTM(50)))\n",
        "\n",
        "model1.add(Dense(1,kernel_initializer='glorot_uniform',activation='sigmoid'))\n",
        "\n",
        "model1.compile('adam','binary_crossentropy',['accuracy'])"
      ],
      "metadata": {
        "id": "lb21VDi_GUDx"
      },
      "execution_count": null,
      "outputs": []
    },
    {
      "cell_type": "code",
      "source": [
        "model1.summary()"
      ],
      "metadata": {
        "id": "r_L6ioADiAxy"
      },
      "execution_count": null,
      "outputs": []
    },
    {
      "cell_type": "code",
      "source": [
        "y = y[:10000]"
      ],
      "metadata": {
        "id": "HqQZfvSoVoA7"
      },
      "execution_count": null,
      "outputs": []
    },
    {
      "cell_type": "code",
      "source": [
        "X_final=np.array(embedded_docs)\n",
        "y_final=np.array(y)"
      ],
      "metadata": {
        "id": "VSQS386hGpfB"
      },
      "execution_count": null,
      "outputs": []
    },
    {
      "cell_type": "code",
      "source": [
        "X_final.shape, y_final.shape"
      ],
      "metadata": {
        "id": "Q1VqX3P-IQtK"
      },
      "execution_count": null,
      "outputs": []
    },
    {
      "cell_type": "code",
      "source": [
        "X_final"
      ],
      "metadata": {
        "id": "gHrQ54RMb_so"
      },
      "execution_count": null,
      "outputs": []
    },
    {
      "cell_type": "code",
      "source": [
        "y_final"
      ],
      "metadata": {
        "id": "iUR_ECZ-cEdY"
      },
      "execution_count": null,
      "outputs": []
    },
    {
      "cell_type": "code",
      "source": [
        "from sklearn.model_selection import train_test_split"
      ],
      "metadata": {
        "id": "c0yH8yxeG4zC"
      },
      "execution_count": null,
      "outputs": []
    },
    {
      "cell_type": "code",
      "source": [
        "X_train, X_test, y_train, y_test = train_test_split(X_final, y_final, test_size=0.33, random_state=42)"
      ],
      "metadata": {
        "id": "YjcM6qAlG_0Q"
      },
      "execution_count": null,
      "outputs": []
    },
    {
      "cell_type": "code",
      "source": [
        "model.fit(X_train,y_train,validation_data=(X_test,y_test),\n",
        "          epochs=10,batch_size=64)"
      ],
      "metadata": {
        "id": "cSp-mibQHJV8"
      },
      "execution_count": null,
      "outputs": []
    },
    {
      "cell_type": "code",
      "source": [
        "model1.fit(X_train,y_train,validation_data=(X_test,y_test),\n",
        "          epochs=5,batch_size=128)"
      ],
      "metadata": {
        "id": "HlKu4UNeGmbY"
      },
      "execution_count": null,
      "outputs": []
    },
    {
      "cell_type": "code",
      "source": [
        "losses = pd.DataFrame(model.history.history)\n",
        "losses.plot()"
      ],
      "metadata": {
        "id": "PGT2F7efmhjQ"
      },
      "execution_count": null,
      "outputs": []
    },
    {
      "cell_type": "code",
      "source": [
        "losses = pd.DataFrame(model1.history.history)\n",
        "losses.plot()"
      ],
      "metadata": {
        "id": "3PEUD0OWKSIB"
      },
      "execution_count": null,
      "outputs": []
    },
    {
      "cell_type": "code",
      "source": [
        "predictions = model.predict(X_test)\n",
        "predictions = (predictions>0.5)"
      ],
      "metadata": {
        "id": "eJm2qc7TI-RM"
      },
      "execution_count": null,
      "outputs": []
    },
    {
      "cell_type": "code",
      "source": [
        "predictions1 = model1.predict(X_test)\n",
        "predictions1 = (predictions1>0.5)"
      ],
      "metadata": {
        "id": "xuuMfZdIKWcq"
      },
      "execution_count": null,
      "outputs": []
    },
    {
      "cell_type": "code",
      "source": [
        "from sklearn.metrics import confusion_matrix,classification_report,accuracy_score"
      ],
      "metadata": {
        "id": "ilqCbBjOJD69"
      },
      "execution_count": null,
      "outputs": []
    },
    {
      "cell_type": "code",
      "source": [
        "print('Normal LSTM')\n",
        "print(confusion_matrix(y_test,predictions))\n",
        "print('----------------------------------')\n",
        "print('Bidirectional LSTM')\n",
        "print(confusion_matrix(y_test,predictions1))"
      ],
      "metadata": {
        "id": "IYWgJhabJMAj"
      },
      "execution_count": null,
      "outputs": []
    },
    {
      "cell_type": "code",
      "source": [
        "print('Normal LSTM')\n",
        "print(classification_report(y_test,predictions))\n",
        "print('----------------------------------------')\n",
        "print('Bidirectional LSTM')\n",
        "print(classification_report(y_test,predictions1))"
      ],
      "metadata": {
        "id": "u3pRzkVnJjG8"
      },
      "execution_count": null,
      "outputs": []
    },
    {
      "cell_type": "code",
      "source": [
        "print('Normal LSTM')\n",
        "print(accuracy_score(y_test,predictions))\n",
        "print('-------------------------')\n",
        "print('Bidirectional LSTM')\n",
        "print(accuracy_score(y_test,predictions1))"
      ],
      "metadata": {
        "id": "__QvCtJiJqUD"
      },
      "execution_count": null,
      "outputs": []
    }
  ]
}